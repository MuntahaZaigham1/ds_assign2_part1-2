{
  "nbformat": 4,
  "nbformat_minor": 0,
  "metadata": {
    "colab": {
      "name": "Untitled4.ipynb",
      "provenance": [],
      "authorship_tag": "ABX9TyNtJefAZYe0MafSZJgPwI/4",
      "include_colab_link": true
    },
    "kernelspec": {
      "name": "python3",
      "display_name": "Python 3"
    }
  },
  "cells": [
    {
      "cell_type": "markdown",
      "metadata": {
        "id": "view-in-github",
        "colab_type": "text"
      },
      "source": [
        "<a href=\"https://colab.research.google.com/github/MuntahaZaigham1/ds_assign2_part1-2/blob/master/poly_normal.ipynb\" target=\"_parent\"><img src=\"https://colab.research.google.com/assets/colab-badge.svg\" alt=\"Open In Colab\"/></a>"
      ]
    },
    {
      "cell_type": "code",
      "metadata": {
        "id": "rwy_b2wWVvgz",
        "colab_type": "code",
        "colab": {}
      },
      "source": [
        "import numpy as np\n",
        "import pandas as pd\n",
        "import matplotlib.pyplot as plt\n",
        "import sys\n",
        "import plotly"
      ],
      "execution_count": 0,
      "outputs": []
    },
    {
      "cell_type": "code",
      "metadata": {
        "id": "35HIUVm4VmVp",
        "colab_type": "code",
        "colab": {}
      },
      "source": [
        "data = np.loadtxt('/content/polynomialRegressionData.csv', delimiter=',')\n",
        "No_of_cols = data.shape[1]\n",
        "#X_train = data[:,(0,1)] #the feature_set\n",
        "X_train = data[:,[0,1]] #feature set\n",
        "\n",
        "print(X_train)\n",
        "#X_train2 = data[:,1] \n",
        "Y_train=data[:,2]#the labels\n",
        "n=2\n",
        "x_array = np.ones((X_train.shape[0], n+1),dtype=np.float64)\n",
        "for i in range(0,X_train.shape[0]):\n",
        "    for j in range(0,n+1):\n",
        "        x_array[i][j] = pow(X_train[i],j)\n",
        "    theta = np.matmul(np.matmul(inv(np.matmul(x_array.transpose(), x_array)), x_array.transpose()), y_train)"
      ],
      "execution_count": 0,
      "outputs": []
    }
  ]
}